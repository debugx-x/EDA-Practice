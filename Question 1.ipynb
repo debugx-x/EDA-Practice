{
 "cells": [
  {
   "cell_type": "markdown",
   "metadata": {},
   "source": [
    "A) The Target Population in this study is Wild BC Chinook Salmons"
   ]
  },
  {
   "cell_type": "markdown",
   "metadata": {},
   "source": [
    "B) The Sample is the 50 salmon researchers caught"
   ]
  },
  {
   "cell_type": "markdown",
   "metadata": {},
   "source": [
    "C) No, the sample is not likely to be representative of the target population. Although the sample was chosen at random, A larger sample size would have been more suitable for the study."
   ]
  },
  {
   "cell_type": "markdown",
   "metadata": {},
   "source": [
    "D) The variables in this study: 1. presence/absence of the virus (Nominal), 2. the distance from the nearest commercial fish farm when caught (in km) (Countious), 3. degree of inflammation in the heart muscle tissus (Ordinal)"
   ]
  }
 ],
 "metadata": {
  "kernelspec": {
   "display_name": "R",
   "language": "R",
   "name": "ir"
  },
  "language_info": {
   "codemirror_mode": "r",
   "file_extension": ".r",
   "mimetype": "text/x-r-source",
   "name": "R",
   "pygments_lexer": "r",
   "version": "3.6.2"
  }
 },
 "nbformat": 4,
 "nbformat_minor": 4
}
